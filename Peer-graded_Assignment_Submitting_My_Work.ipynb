{
  "metadata": {
    "kernelspec": {
      "name": "python",
      "display_name": "Python (Pyodide)",
      "language": "python"
    },
    "language_info": {
      "codemirror_mode": {
        "name": "python",
        "version": 3
      },
      "file_extension": ".py",
      "mimetype": "text/x-python",
      "name": "python",
      "nbconvert_exporter": "python",
      "pygments_lexer": "ipython3",
      "version": "3.8"
    }
  },
  "nbformat_minor": 4,
  "nbformat": 4,
  "cells": [
    {
      "cell_type": "markdown",
      "source": "# Peer-graded_Assignment_Submitting_My_Work\n",
      "metadata": {}
    },
    {
      "cell_type": "markdown",
      "source": "#### Data Science Tools and Ecosystem\nIn this notebook, Data Science Tools and Ecosystem are summarized.\n\n#### Objectives\n1.  List popular languages that Data Scientists use.\n2. List commonly used libraries used by Data Scientists.\n3. Comment on Data Science tools.tools.\n",
      "metadata": {}
    },
    {
      "cell_type": "markdown",
      "source": "**Data science languages:-**\n1. Python \n2. R \n3. SQL\n4. Julia \n",
      "metadata": {}
    },
    {
      "cell_type": "markdown",
      "source": "**Data science Libraries :-**\n1. Pandas\n2. NumPy\n3. Scikit-learn\n4. TensorFlow\n5. Keras\n6. Matplotlib\n7. seaborn\n8. Plotly\n9. statsmodels\n10. NLTk(Natural language Toolkit\n",
      "metadata": {}
    },
    {
      "cell_type": "markdown",
      "source": "| Category            | Tools                                  |\n|---------------------|----------------------------------------|\n| Data Wrangling      | Pandas, dplyr (R), SQL                 |\n| Visualization       | Matplotlib, Seaborn, Plotly            |\n| Machine Learning    | Scikit-learn, TensorFlow, Keras        |\n| Statistical Analysis| Statsmodels (Python), R                 |\n| Natural Language Processing | NLTK (Python), SpaCy (Python)  |\n",
      "metadata": {}
    },
    {
      "cell_type": "markdown",
      "source": "## Arithmetic Expressions Introduction\n\nArithmetic expressions are fundamental in mathematics and programming, allowing us to perform mathematical operations. These expressions consist of operators like addition (+), subtraction (-), multiplication (*), division (/), and more.\n\n",
      "metadata": {}
    },
    {
      "cell_type": "code",
      "source": "#Examples of Arithmetic Expressions:\n#Addition (+): Adding two numbers together.\n\n# Example:\nprint(2 + 13) \n\n# Subtraction (-):    Finding the difference between two numbers.\n# Example: \nprint(eval('100 - 44 '))\n\n# Multiplication (*):   Multiplying numbers together.\n# Example: \nprint(5 * 6)\n\n# Division (/):   Dividing one number by another.\n# Example: \n# float division\nprint(156 / 3)\n\n# integer result \nprint(156 // 3)\n\n# Exponentiation (** or ^):** Raising a number to a power.\n# Example:\nprint(2 ** 8) \n# (2 raised to the power of 8)\n\n#  Modulus(%):  finding remainder of a number divided by another number\nx=4748\nprint(x%3)",
      "metadata": {
        "trusted": true
      },
      "outputs": [
        {
          "name": "stdout",
          "text": "15\n56\n30\n52.0\n52\n256\n2\n",
          "output_type": "stream"
        }
      ],
      "execution_count": 12
    },
    {
      "cell_type": "code",
      "source": "# Define numbers for multiplication and addition\nnum1 = 5\nnum2 = 10\n\n# Perform multiplication\nresult_multiply = num1 * num2\nprint(f\"Multiplication result: {result_multiply}\")\n\n# Perform addition\nresult_add = num1 + num2\nprint(f\"Addition result: {result_add}\")\n",
      "metadata": {
        "trusted": true
      },
      "outputs": [
        {
          "name": "stdout",
          "text": "Multiplication result: 50\nAddition result: 15\n",
          "output_type": "stream"
        }
      ],
      "execution_count": 13
    },
    {
      "cell_type": "code",
      "source": "# Define the number of minutes\nminutes = 120  # For example, 120 minutes\n\n# Convert minutes to hours\nhours = minutes / 60\n\n# Display the result\nprint(f\"{minutes} minutes is equal to {hours} hours\")\n",
      "metadata": {
        "trusted": true
      },
      "outputs": [
        {
          "name": "stdout",
          "text": "120 minutes is equal to 2.0 hours\n",
          "output_type": "stream"
        }
      ],
      "execution_count": 14
    },
    {
      "cell_type": "markdown",
      "source": "## Objectives\n\n1. **Understand Arithmetic Operations:** Learn about basic arithmetic operations such as addition, subtraction, multiplication, and division.\n2. **Familiarize with Code Execution:** Execute Python code cells to perform arithmetic calculations.\n3. **Explore Conversion Operations:** Explore converting units, such as minutes to hours, using Python.\n4. **Practice Markdown Usage:** Get comfortable using markdown cells to structure text and present information in JupyterLite notebooks.\n5. **Gain Confidence in Notebook Interaction:** Interact with cells to understand input, execution, and output within a JupyterLite environment.\n",
      "metadata": {}
    },
    {
      "cell_type": "markdown",
      "source": "## Author\n***Aditya Santosh Gupta***\n",
      "metadata": {}
    }
  ]
}
